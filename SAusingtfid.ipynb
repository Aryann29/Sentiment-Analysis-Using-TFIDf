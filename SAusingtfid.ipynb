{
  "nbformat": 4,
  "nbformat_minor": 0,
  "metadata": {
    "colab": {
      "provenance": [],
      "authorship_tag": "ABX9TyMlHYEoYg+J9BU+c34YYS3o",
      "include_colab_link": true
    },
    "kernelspec": {
      "name": "python3",
      "display_name": "Python 3"
    },
    "language_info": {
      "name": "python"
    }
  },
  "cells": [
    {
      "cell_type": "markdown",
      "metadata": {
        "id": "view-in-github",
        "colab_type": "text"
      },
      "source": [
        "<a href=\"https://colab.research.google.com/github/Aryann29/Sentiment-Analysis-Using-TFID/blob/main/SAusingtfid.ipynb\" target=\"_parent\"><img src=\"https://colab.research.google.com/assets/colab-badge.svg\" alt=\"Open In Colab\"/></a>"
      ]
    },
    {
      "cell_type": "code",
      "execution_count": null,
      "metadata": {
        "id": "OxCARW-v6Ozy"
      },
      "outputs": [],
      "source": [
        "import pandas as pd\n",
        "df = pd.read_csv('/content/amazon_baby.csv', on_bad_lines='skip')\n",
        "df = df.dropna()#Taking a 30% representative sample\n",
        "import numpy as np\n",
        "np.random.seed(34)\n",
        "df1 = df.sample(frac = 0.3)#Adding the sentiments column\n",
        "df1['sentiments'] = df1.rating.apply(lambda x: 0 if x in [1, 2] else 1)"
      ]
    },
    {
      "cell_type": "code",
      "source": [
        "X = df1['review']\n",
        "y = df1['sentiments']"
      ],
      "metadata": {
        "id": "t12BsEBtYMp5"
      },
      "execution_count": null,
      "outputs": []
    },
    {
      "cell_type": "code",
      "source": [
        "from sklearn.model_selection import train_test_split\n",
        "X_train, X_test, y_train, y_test = train_test_split(X, y, \n",
        "                                        test_size = 0.5, random_state=45)"
      ],
      "metadata": {
        "id": "Lin8ZftTaLNe"
      },
      "execution_count": null,
      "outputs": []
    },
    {
      "cell_type": "code",
      "source": [
        "from sklearn.feature_extraction.text import TfidfVectorizer\n",
        "#tfidf vectorizer\n",
        "vectorizer = TfidfVectorizer()\n",
        "X_train_vec = vectorizer.fit_transform(X_train)\n",
        "X_test_vec = vectorizer.transform(X_test)\n",
        "from sklearn.linear_model import LogisticRegression\n",
        "lr = LogisticRegression()\n",
        "lr.fit(X_train_vec, y_train)\n",
        "lr_score = lr.score(X_test_vec, y_test)\n",
        "print(\"Results for Logistic Regression with tfidf\")\n",
        "print(lr_score)\n",
        "y_pred_lr = lr.predict(X_test_vec)"
      ],
      "metadata": {
        "id": "AZCHwB2faLn5"
      },
      "execution_count": null,
      "outputs": []
    },
    {
      "cell_type": "code",
      "source": [
        "#Confusion matrix\n",
        "from sklearn.metrics import confusion_matrix\n",
        "cm_knn = confusion_matrix(y_test, y_pred_lr)\n",
        "tn, fp, fn, tp = confusion_matrix(y_test, y_pred_lr).ravel()\n",
        "print(tn, fp, fn, tp)\n",
        "tpr_knn = round(tp/(tp + fn), 4)\n",
        "tnr_knn = round(tn/(tn+fp), 4)\n",
        "print(tpr_knn, tnr_knn)"
      ],
      "metadata": {
        "id": "FMXGbXncYOEZ"
      },
      "execution_count": null,
      "outputs": []
    }
  ]
}